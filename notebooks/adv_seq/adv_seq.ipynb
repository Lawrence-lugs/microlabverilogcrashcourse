{
  "cells": [
    {
      "cell_type": "markdown",
      "id": "15878bd6",
      "metadata": {
        "id": "15878bd6"
      },
      "source": [
        "# Advanced Sequential Logic Exercise\n",
        "Click the ▷ button below to setup the exercise's environment (will take about 2 mins).\n"
      ]
    },
    {
      "cell_type": "code",
      "execution_count": null,
      "id": "_4HWkqjRNKYl",
      "metadata": {
        "collapsed": true,
        "id": "_4HWkqjRNKYl"
      },
      "outputs": [],
      "source": [
        "#@title Install dependencies {display-mode: \"form\"}\n",
        "#@markdown - Click the ▷ button to setup the digital design environment\n",
        "\n",
        "import os\n",
        "import pathlib\n",
        "!curl -Ls https://micro.mamba.pm/api/micromamba/linux-64/latest | tar -xj bin/micromamba\n",
        "conda_prefix_path = pathlib.Path('conda-env')\n",
        "CONDA_PREFIX = str(conda_prefix_path.resolve())\n",
        "!bin/micromamba create --yes --prefix $CONDA_PREFIX\n",
        "!echo 'python ==3.7*' >> {CONDA_PREFIX}/conda-meta/pinned\n",
        "!CI=0 bin/micromamba install --yes --prefix $CONDA_PREFIX \\\n",
        "                     --channel litex-hub \\\n",
        "                     --channel main \\\n",
        "                     --channel conda-forge \\\n",
        "                     iverilog \\\n",
        "                     verilator\n",
        "!python -m pip install numpy\n",
        "PATH = os.environ['PATH']\n",
        "%env CONDA_PREFIX={CONDA_PREFIX}\n",
        "%env PATH={CONDA_PREFIX}/bin:{PATH}\n"
      ]
    },
    {
      "cell_type": "code",
      "execution_count": null,
      "id": "71e851d6",
      "metadata": {
        "cellView": "form",
        "collapsed": true,
        "id": "71e851d6"
      },
      "outputs": [],
      "source": [
        "#@title Click the ▷ button to setup testbench\n",
        "#@markdown The testbench allows us to check your work. No need to pay attention to this for now.\n",
        "\n",
        "%%writefile tb_stack.v\n",
        "\n",
        "`timescale 1ns/1ps\n",
        "module tb_stack;\n",
        "\treg clk, nrst, push, pop;\n",
        "\treg [3:0] din;\n",
        "\twire [3:0] dout;\n",
        "\n",
        "\tstack uut (\n",
        "\t\t.clk(clk),\n",
        "\t\t.nrst(nrst),\n",
        "\t\t.push(push),\n",
        "\t\t.pop(pop),\n",
        "\t\t.din(din),\n",
        "\t\t.dout(dout)\n",
        "\t);\n",
        "\n",
        "\t// Clock generation\n",
        "\tinitial clk = 0;\n",
        "\talways #5 clk = ~clk;\n",
        "\n",
        "    reg [3:0] push_values [0:3];\n",
        "    integer err;\n",
        "\n",
        "    // Waveform dump\n",
        "    initial begin\n",
        "        $dumpfile(\"tb_stack.vcd\");\n",
        "        $dumpvars(0, tb_stack);\n",
        "    end\n",
        "\n",
        "\tinitial begin\n",
        "\t\t$display(\"Starting stack testbench...\");\n",
        "\t\tnrst = 0; push = 0; pop = 0; din = 0;\n",
        "\t\t#12;\n",
        "\t\tnrst = 1;\n",
        "\t\t#10;\n",
        "\n",
        "        push_values[0] = 4'd3;\n",
        "        push_values[1] = 4'd7;\n",
        "        push_values[2] = 4'd12;\n",
        "        push_values[3] = 4'd15;\n",
        "\n",
        "\t\t// Push 4 values\n",
        "\t\tfor (integer i = 0; i < 4; i = i + 1) begin\n",
        "\t\t\t@(negedge clk);\n",
        "\t\t\tpush = 1;\n",
        "            pop = 0;\n",
        "            din = push_values[i];\n",
        "\t\t\t$display(\"Pushing %d\", din);\n",
        "\t\t\t@(negedge clk);\n",
        "\t\t\tpush = 0;\n",
        "\t\t\t#2;\n",
        "\t\tend\n",
        "\n",
        "        #10;\n",
        "\n",
        "\t\t// Pop 4 values\n",
        "\t\tfor (integer i = 0; i < 4; i = i + 1) begin\n",
        "\t\t\t@(negedge clk);\n",
        "\t\t\tpush = 0;\n",
        "            pop = 1;\n",
        "\t\t\t@(negedge clk);\n",
        "\t\t\tpop = 0;\n",
        "\t\t\t#2;\n",
        "            if (dout !== 4'bxxxx)\n",
        "                if (dout == push_values[3 - i])\n",
        "                    $display(\"Popped value: %d (correct)\", dout);\n",
        "                else\n",
        "                    $display(\"Popped value: %d (incorrect, expected %d)\", dout, push_values[3 - i]);\n",
        "            else\n",
        "                $display(\"Popped value: Invalid (stack underflow)\");\n",
        "\t\tend\n",
        "\n",
        "\t\t#10;\n",
        "\t\t$finish;\n",
        "\tend\n",
        "endmodule\n",
        "\n",
        "\n"
      ]
    },
    {
      "cell_type": "markdown",
      "id": "ae34abc0",
      "metadata": {
        "id": "ae34abc0"
      },
      "source": [
        "# The exercise\n",
        "\n",
        "- A stack is a data structure where the first element \"pushed\" is the last one \"popped\", like an actual stack of items.\n",
        "- For example, enqueueing 3, 4, 6, 7 in order and then dequeueing all of them should yield 7, 6, 4, 3 in order.\n",
        "- When push is 1, the 4b input in **din** is pushed to the stack upon the next clock edge.\n",
        "- When pop is 1, the 4b output **dout** will be popped from the stack upon the next clock edge.\n",
        "- The stack can only contain at most 4 elements. Trying to push more than 4 elements will not work, and so will pop not work when the stack is empty.\n",
        "- For example, pushing 3, 4, 6, 7, 8, and then popping should yield 7, 6, 4, 3, 0, since 8 was not pushed into the stack.\n",
        "- Your task is to fill in the behavioral model of the stack module below.\n",
        "\n",
        "A sample waveform is shown below:\n",
        "\n",
        "![](https://lawrence-lugs.notion.site/image/attachment%3A139a5a17-281d-402a-bb60-049712d9f2c4%3Awavedrom.png?table=block&id=268ab8b4-50a9-80d7-a8c0-e5b605d21f96&spaceId=378d1135-5228-4759-9c1d-b2c3e4e47feb&width=1420&userId=&cache=v2)\n",
        "\n",
        "Fill in your verilog code below:"
      ]
    },
    {
      "cell_type": "code",
      "execution_count": null,
      "id": "be4526e2",
      "metadata": {
        "id": "be4526e2"
      },
      "outputs": [],
      "source": [
        "%%writefile stack.v\n",
        "\n",
        "module stack (\n",
        "    input wire clk,\n",
        "    input wire nrst,\n",
        "    input wire push,\n",
        "    input wire pop,\n",
        "    input wire [3:0] din,\n",
        "    output reg [3:0] dout\n",
        ");\n",
        "\n",
        "    // Write your stack implementation here\n",
        "\n",
        "endmodule"
      ]
    },
    {
      "cell_type": "markdown",
      "id": "xg6IfIlfNvRg",
      "metadata": {
        "id": "xg6IfIlfNvRg"
      },
      "source": [
        "# Checking\n",
        "\n",
        "Press the ▷ button to check your work"
      ]
    },
    {
      "cell_type": "code",
      "execution_count": null,
      "id": "b7a461e9",
      "metadata": {
        "id": "b7a461e9"
      },
      "outputs": [],
      "source": [
        "%cd content\n",
        "! iverilog tb_stack.v stack.v\n",
        "! ./a.out"
      ]
    }
  ],
  "metadata": {
    "colab": {
      "provenance": []
    },
    "kernelspec": {
      "display_name": "base",
      "language": "python",
      "name": "python3"
    },
    "language_info": {
      "codemirror_mode": {
        "name": "ipython",
        "version": 3
      },
      "file_extension": ".py",
      "mimetype": "text/x-python",
      "name": "python",
      "nbconvert_exporter": "python",
      "pygments_lexer": "ipython3",
      "version": "3.12.11"
    }
  },
  "nbformat": 4,
  "nbformat_minor": 5
}