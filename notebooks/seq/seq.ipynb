{
  "cells": [
    {
      "cell_type": "markdown",
      "id": "15878bd6",
      "metadata": {
        "id": "15878bd6"
      },
      "source": [
        "# Sequential Logic Exercise\n",
        "Click the ▷ button below to setup the exercise's environment (will take about 2 mins).\n"
      ]
    },
    {
      "cell_type": "code",
      "execution_count": null,
      "id": "_4HWkqjRNKYl",
      "metadata": {
        "collapsed": true,
        "id": "_4HWkqjRNKYl"
      },
      "outputs": [],
      "source": [
        "#@title Install dependencies {display-mode: \"form\"}\n",
        "#@markdown - Click the ▷ button to setup the digital design environment\n",
        "\n",
        "import os\n",
        "import pathlib\n",
        "!curl -Ls https://micro.mamba.pm/api/micromamba/linux-64/latest | tar -xj bin/micromamba\n",
        "conda_prefix_path = pathlib.Path('conda-env')\n",
        "CONDA_PREFIX = str(conda_prefix_path.resolve())\n",
        "!bin/micromamba create --yes --prefix $CONDA_PREFIX\n",
        "!echo 'python ==3.7*' >> {CONDA_PREFIX}/conda-meta/pinned\n",
        "!CI=0 bin/micromamba install --yes --prefix $CONDA_PREFIX \\\n",
        "                     --channel litex-hub \\\n",
        "                     --channel main \\\n",
        "                     --channel conda-forge \\\n",
        "                     iverilog \\\n",
        "                     verilator\n",
        "!python -m pip install numpy\n",
        "PATH = os.environ['PATH']\n",
        "%env CONDA_PREFIX={CONDA_PREFIX}\n",
        "%env PATH={CONDA_PREFIX}/bin:{PATH}\n"
      ]
    },
    {
      "cell_type": "code",
      "execution_count": null,
      "id": "71e851d6",
      "metadata": {
        "cellView": "form",
        "collapsed": true,
        "id": "71e851d6"
      },
      "outputs": [],
      "source": [
        "#@title Click the ▷ button to setup testbench\n",
        "#@markdown The testbench allows us to check your work. No need to pay attention to this for now.\n",
        "\n",
        "%%writefile tb_lfsr.v\n",
        "\n",
        "module tb_lfsr;\n",
        "    reg clk;\n",
        "    reg nrst;\n",
        "    wire [3:0] lfsr;\n",
        "\n",
        "    // Instantiate the LFSR module\n",
        "    lfsr_4b uut (\n",
        "        .clk(clk),\n",
        "        .nrst(nrst),\n",
        "        .lfsr(lfsr)\n",
        "    );\n",
        "\n",
        "    reg [3:0] expected_seq [0:14];\n",
        "    integer i, errors;\n",
        "    initial begin\n",
        "        $dumpfile(\"tb_lfsr.vcd\");\n",
        "        $dumpvars(0, tb_lfsr);\n",
        "        clk = 0;\n",
        "        nrst = 0;\n",
        "        // Expected sequence for seed 4'b0001 and taps at 4,3 (x^4 + x^3 + 1)\n",
        "        expected_seq[0]  = 4'b0010;\n",
        "        expected_seq[1]  = 4'b0100;\n",
        "        expected_seq[2]  = 4'b1000;\n",
        "        expected_seq[3]  = 4'b0101;\n",
        "        expected_seq[4]  = 4'b1010;\n",
        "        expected_seq[5]  = 4'b0001;\n",
        "        expected_seq[6]  = 4'b0010;\n",
        "        expected_seq[7]  = 4'b0100;\n",
        "        expected_seq[8]  = 4'b1000;\n",
        "        expected_seq[9]  = 4'b0101;\n",
        "        expected_seq[10] = 4'b1010;\n",
        "        expected_seq[11] = 4'b0001;\n",
        "        expected_seq[12] = 4'b0010;\n",
        "        expected_seq[13] = 4'b0100;\n",
        "        expected_seq[14] = 4'b1000;\n",
        "\n",
        "        #5 nrst = 1;\n",
        "        errors = 0;\n",
        "        for (i = 0; i < 15; i = i + 1) begin\n",
        "            #5 clk = ~clk;\n",
        "            #5 clk = ~clk;\n",
        "            $display(\"Cycle %0d: lfsr = %b, expected = %b\", i, lfsr, expected_seq[i]);\n",
        "            if (lfsr !== expected_seq[i]) begin\n",
        "                $display(\"ERROR: Mismatch at cycle %0d!\", i);\n",
        "                errors = errors + 1;\n",
        "            end\n",
        "        end\n",
        "        if (errors == 0)\n",
        "            $display(\"PASS: LFSR matches expected sequence.\");\n",
        "        else\n",
        "            $display(\"FAIL: %0d mismatches detected.\", errors);\n",
        "        $finish;\n",
        "    end\n",
        "endmodule\n",
        "\n",
        "\n"
      ]
    },
    {
      "cell_type": "markdown",
      "id": "ae34abc0",
      "metadata": {
        "id": "ae34abc0"
      },
      "source": [
        "# The exercise\n",
        "\n",
        "- LFSRs are circuits we use to generate pseudorandom numbers with XORs and a bundle of flip-flops.\n",
        "- Your task is to create the 4-bit Galois LFSR shown in the figure using Verilog.\n",
        "- **Remember to put in an asynchronous reset**.\n",
        "\n",
        "![](https://lawrence-lugs.notion.site/image/attachment%3A38b3aee2-d395-47a0-ba38-c5be08b5fd33%3Aimage.png?table=block&id=265ab8b4-50a9-8080-aef2-d6172980f0bc&spaceId=378d1135-5228-4759-9c1d-b2c3e4e47feb&width=1420&userId=&cache=v2)\n",
        "\n",
        "Fill in your verilog code below:"
      ]
    },
    {
      "cell_type": "code",
      "execution_count": null,
      "id": "be4526e2",
      "metadata": {
        "id": "be4526e2"
      },
      "outputs": [],
      "source": [
        "%%writefile lfsr.v\n",
        "\n",
        "module lfsr_4b (\n",
        "    input wire clk,\n",
        "    input wire nrst,\n",
        "    output reg [3:0] lfsr\n",
        ");\n",
        "\n",
        "  // Write your code here\n",
        "\n",
        "endmodule"
      ]
    },
    {
      "cell_type": "markdown",
      "id": "xg6IfIlfNvRg",
      "metadata": {
        "id": "xg6IfIlfNvRg"
      },
      "source": [
        "# Checking\n",
        "\n",
        "Press the ▷ button to check your work"
      ]
    },
    {
      "cell_type": "code",
      "execution_count": null,
      "id": "b7a461e9",
      "metadata": {
        "id": "b7a461e9"
      },
      "outputs": [],
      "source": [
        "%cd content\n",
        "! iverilog tb_lfsr.v lfsr.v\n",
        "! ./a.out"
      ]
    }
  ],
  "metadata": {
    "colab": {
      "provenance": []
    },
    "kernelspec": {
      "display_name": "base",
      "language": "python",
      "name": "python3"
    },
    "language_info": {
      "codemirror_mode": {
        "name": "ipython",
        "version": 3
      },
      "file_extension": ".py",
      "mimetype": "text/x-python",
      "name": "python",
      "nbconvert_exporter": "python",
      "pygments_lexer": "ipython3",
      "version": "3.12.11"
    }
  },
  "nbformat": 4,
  "nbformat_minor": 5
}