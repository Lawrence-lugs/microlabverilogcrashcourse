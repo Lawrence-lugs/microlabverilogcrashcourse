{
 "cells": [
  {
   "cell_type": "code",
   "execution_count": 1,
   "metadata": {},
   "outputs": [
    {
     "data": {
      "text/plain": [
       "array([[ 1.,  2.,  3.,  4.,  5.],\n",
       "       [ 6.,  7.,  8.,  9., 10.],\n",
       "       [11., 12., 13., 14., 15.],\n",
       "       [16., 17., 18., 19., 20.],\n",
       "       [21., 22., 23., 24., 25.]])"
      ]
     },
     "execution_count": 1,
     "metadata": {},
     "output_type": "execute_result"
    }
   ],
   "source": [
    "import numpy as np\n",
    "\n",
    "a = np.loadtxt('a.txt')\n",
    "pes = np.loadtxt('w.txt')\n",
    "\n",
    "a"
   ]
  },
  {
   "cell_type": "code",
   "execution_count": 2,
   "metadata": {},
   "outputs": [
    {
     "data": {
      "text/plain": [
       "array([[ 10., -13.,  16.],\n",
       "       [-42.,  92.,  79.],\n",
       "       [ -5.,  71.,  33.]])"
      ]
     },
     "execution_count": 2,
     "metadata": {},
     "output_type": "execute_result"
    }
   ],
   "source": [
    "w = pes.T[0].reshape(3,3)\n",
    "w"
   ]
  },
  {
   "cell_type": "code",
   "execution_count": 5,
   "metadata": {},
   "outputs": [
    {
     "data": {
      "text/plain": [
       "array([[ 10., -11.,  12.],\n",
       "       [-13.,  14., -15.],\n",
       "       [ 16., -17.,  18.],\n",
       "       [-42.,  65.,  17.],\n",
       "       [ 92., -23.,  41.],\n",
       "       [ 79.,  11., -64.],\n",
       "       [ -5.,  38.,  27.],\n",
       "       [ 71., -19.,   8.],\n",
       "       [ 33.,  54., -29.]])"
      ]
     },
     "execution_count": 5,
     "metadata": {},
     "output_type": "execute_result"
    }
   ],
   "source": [
    "pes"
   ]
  },
  {
   "cell_type": "code",
   "execution_count": 4,
   "metadata": {},
   "outputs": [
    {
     "data": {
      "text/plain": [
       "[array([[2282., 2523., 2764.],\n",
       "        [3487., 3728., 3969.],\n",
       "        [4692., 4933., 5174.]]),\n",
       " array([[1175., 1287., 1399.],\n",
       "        [1735., 1847., 1959.],\n",
       "        [2295., 2407., 2519.]]),\n",
       " array([[-71., -56., -41.],\n",
       "        [  4.,  19.,  34.],\n",
       "        [ 79.,  94., 109.]])]"
      ]
     },
     "execution_count": 4,
     "metadata": {},
     "output_type": "execute_result"
    }
   ],
   "source": [
    "from scipy.signal import convolve2d\n",
    "\n",
    "ans = []\n",
    "for i in range(3):\n",
    "    w = pes.T[i].reshape(3,3)\n",
    "    o = convolve2d(a,w[::-1].T[::-1].T,mode='valid')\n",
    "    ans.append(o)\n",
    "ans"
   ]
  }
 ],
 "metadata": {
  "kernelspec": {
   "display_name": "ic_dec",
   "language": "python",
   "name": "python3"
  },
  "language_info": {
   "codemirror_mode": {
    "name": "ipython",
    "version": 3
   },
   "file_extension": ".py",
   "mimetype": "text/x-python",
   "name": "python",
   "nbconvert_exporter": "python",
   "pygments_lexer": "ipython3",
   "version": "3.12.2"
  }
 },
 "nbformat": 4,
 "nbformat_minor": 2
}
