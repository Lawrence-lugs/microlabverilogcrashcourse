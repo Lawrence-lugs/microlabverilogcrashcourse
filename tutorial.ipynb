{
 "cells": [
  {
   "cell_type": "markdown",
   "id": "15878bd6",
   "metadata": {},
   "source": [
    "# Let's run simulations!\n",
    "\n",
    "Here we use verilator to generate the executable `./obj_dir/Vtb_tpu_top`"
   ]
  },
  {
   "cell_type": "code",
   "execution_count": null,
   "id": "b7a461e9",
   "metadata": {},
   "outputs": [],
   "source": [
    "%cd sims\n",
    "! verilator --binary --trace --timing -Wno-fatal ../tb/tb_tpu_top.sv ../rtl/*.sv\n",
    "! ./obj_dir/Vtb_tpu_top\n",
    "%cd .."
   ]
  }
 ],
 "metadata": {
  "kernelspec": {
   "display_name": "base",
   "language": "python",
   "name": "python3"
  },
  "language_info": {
   "codemirror_mode": {
    "name": "ipython",
    "version": 3
   },
   "file_extension": ".py",
   "mimetype": "text/x-python",
   "name": "python",
   "nbconvert_exporter": "python",
   "pygments_lexer": "ipython3",
   "version": "3.12.11"
  }
 },
 "nbformat": 4,
 "nbformat_minor": 5
}
